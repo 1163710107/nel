{
 "cells": [
  {
   "cell_type": "code",
   "execution_count": 1,
   "metadata": {
    "collapsed": false
   },
   "outputs": [],
   "source": [
    "import findspark\n",
    "findspark.init()\n",
    "import pyspark\n",
    "sc = pyspark.SparkContext()\n",
    "sqlContext = pyspark.sql.SQLContext(sc)"
   ]
  },
  {
   "cell_type": "code",
   "execution_count": 2,
   "metadata": {
    "collapsed": true
   },
   "outputs": [],
   "source": [
    "import os"
   ]
  },
  {
   "cell_type": "code",
   "execution_count": 3,
   "metadata": {
    "collapsed": true
   },
   "outputs": [],
   "source": [
    "from sift.corpora import wikipedia, wikidata\n",
    "from sift.models import text, links\n",
    "wikipedia_base_path = '/data0/linking/wikipedia/dumps/20150901/'\n",
    "wikidata_base_path = '/n/schwa11/data0/linking/wikidata/dumps/20150713'"
   ]
  },
  {
   "cell_type": "code",
   "execution_count": 4,
   "metadata": {
    "collapsed": false
   },
   "outputs": [],
   "source": [
    "wikipedia_corpus = wikipedia.WikipediaCorpus()(sc, wikipedia_base_path)\n",
    "docs = wikipedia.WikipediaArticles()(wikipedia_corpus).cache()"
   ]
  },
  {
   "cell_type": "code",
   "execution_count": 5,
   "metadata": {
    "collapsed": true
   },
   "outputs": [],
   "source": [
    "wikipedia_pfx = 'en.wikipedia.org/wiki/'"
   ]
  },
  {
   "cell_type": "code",
   "execution_count": 6,
   "metadata": {
    "collapsed": true
   },
   "outputs": [],
   "source": [
    "ec_model = links\\\n",
    "    .EntityCounts(min_count=5, filter_target=wikipedia_pfx)\\\n",
    "    .build(docs)\\\n",
    "    .map(links.EntityCounts.format_item)"
   ]
  },
  {
   "cell_type": "code",
   "execution_count": 7,
   "metadata": {
    "collapsed": true
   },
   "outputs": [],
   "source": [
    "enc_model = links\\\n",
    "    .EntityNameCounts(lowercase=True, filter_target=wikipedia_pfx)\\\n",
    "    .build(docs)\\\n",
    "    .filter(lambda (name, counts): sum(counts.itervalues()) > 1)\\\n",
    "    .map(links.EntityNameCounts.format_item)"
   ]
  },
  {
   "cell_type": "code",
   "execution_count": 8,
   "metadata": {
    "collapsed": false
   },
   "outputs": [
    {
     "data": {
      "text/plain": [
       "[{'_id': u'en.wikipedia.org/wiki/Polar_class', 'count': 15}]"
      ]
     },
     "execution_count": 8,
     "metadata": {},
     "output_type": "execute_result"
    }
   ],
   "source": [
    "ec_model.take(1)"
   ]
  },
  {
   "cell_type": "code",
   "execution_count": 9,
   "metadata": {
    "collapsed": false
   },
   "outputs": [],
   "source": [
    "from nel.model import data\n",
    "from nel.model.store import file"
   ]
  },
  {
   "cell_type": "code",
   "execution_count": 10,
   "metadata": {
    "collapsed": true
   },
   "outputs": [],
   "source": [
    "os.environ['NEL_DATASTORE_URI'] = 'file:///data0/nel/'"
   ]
  },
  {
   "cell_type": "code",
   "execution_count": 57,
   "metadata": {
    "collapsed": true
   },
   "outputs": [],
   "source": [
    "# we can use model.toLocalIterator if models don't fit in memory"
   ]
  },
  {
   "cell_type": "code",
   "execution_count": 58,
   "metadata": {
    "collapsed": false
   },
   "outputs": [
    {
     "name": "stderr",
     "output_type": "stream",
     "text": [
      "2017-02-26 17:53:54,467|DEBUG|data|Using file object store for (models:ecounts[wikipedia])...\n",
      "2017-02-26 17:53:54,467|WARNING|file|No mmap store found: /data0/nel/models/ecounts[wikipedia].index ...\n",
      "2017-02-26 17:54:19,292|DEBUG|file|Loading mmap store: /data0/nel/models/ecounts[wikipedia].index ...\n"
     ]
    }
   ],
   "source": [
    "data.ObjectStore\\\n",
    "    .Get('models:ecounts[wikipedia]')\\\n",
    "    .save_many(ec_model.collect())"
   ]
  },
  {
   "cell_type": "code",
   "execution_count": null,
   "metadata": {
    "collapsed": false
   },
   "outputs": [
    {
     "name": "stderr",
     "output_type": "stream",
     "text": [
      "2017-02-26 17:54:34,399|DEBUG|data|Using file object store for (models:necounts[wikipedia])...\n",
      "2017-02-26 17:54:34,400|WARNING|file|No mmap store found: /data0/nel/models/necounts[wikipedia].index ...\n"
     ]
    }
   ],
   "source": [
    "data.ObjectStore\\\n",
    "    .Get('models:necounts[wikipedia]')\\\n",
    "    .save_many(enc_model.collect())"
   ]
  },
  {
   "cell_type": "code",
   "execution_count": 13,
   "metadata": {
    "collapsed": false
   },
   "outputs": [],
   "source": [
    "from nel.doc import Doc"
   ]
  },
  {
   "cell_type": "code",
   "execution_count": 14,
   "metadata": {
    "collapsed": false
   },
   "outputs": [],
   "source": [
    "from nel.harness.format import from_sift"
   ]
  },
  {
   "cell_type": "code",
   "execution_count": 18,
   "metadata": {
    "collapsed": true
   },
   "outputs": [],
   "source": [
    "from nel.process.pipeline import Pipeline\n",
    "from nel.process.candidates import NameCounts\n",
    "from nel.features.probability import EntityProbability, NameProbability"
   ]
  },
  {
   "cell_type": "code",
   "execution_count": 16,
   "metadata": {
    "collapsed": false
   },
   "outputs": [
    {
     "name": "stderr",
     "output_type": "stream",
     "text": [
      "2017-02-26 17:35:06,227|INFO|candidates|Preparing name model candidate generator (model=wikipedia, limit=10)...\n",
      "2017-02-26 17:35:06,228|DEBUG|data|Using file object store for (models:necounts[wikipedia])...\n",
      "2017-02-26 17:35:06,229|DEBUG|file|Loading mmap store: /data0/nel/models/necounts[wikipedia].index ...\n",
      "2017-02-26 17:35:18,528|DEBUG|data|Using file object store for (models:ecounts[wikipedia])...\n",
      "2017-02-26 17:35:18,529|DEBUG|file|Loading mmap store: /data0/nel/models/ecounts[wikipedia].index ...\n"
     ]
    }
   ],
   "source": [
    "candidate_generation = [\n",
    "    NameCounts('wikipedia', 10)\n",
    "]\n",
    "feature_extraction = [\n",
    "    EntityProbability('wikipedia'),\n",
    "    NameProbability('wikipedia')\n",
    "]"
   ]
  },
  {
   "cell_type": "code",
   "execution_count": 19,
   "metadata": {
    "collapsed": false
   },
   "outputs": [],
   "source": [
    "training_pipeline = Pipeline(candidate_generation + feature_extraction)"
   ]
  },
  {
   "cell_type": "code",
   "execution_count": 20,
   "metadata": {
    "collapsed": true
   },
   "outputs": [],
   "source": [
    "training_docs = [from_sift(doc) for doc in docs.takeSample(False, 100)]"
   ]
  },
  {
   "cell_type": "code",
   "execution_count": 21,
   "metadata": {
    "collapsed": false
   },
   "outputs": [],
   "source": [
    "train = [training_pipeline(doc) for doc in training_docs]"
   ]
  },
  {
   "cell_type": "code",
   "execution_count": 32,
   "metadata": {
    "collapsed": true
   },
   "outputs": [],
   "source": [
    "from nel.learn import ranking\n",
    "from nel.features import meta\n",
    "from nel.model import resolution\n",
    "from nel.process import resolve"
   ]
  },
  {
   "cell_type": "code",
   "execution_count": 25,
   "metadata": {
    "collapsed": false
   },
   "outputs": [
    {
     "name": "stderr",
     "output_type": "stream",
     "text": [
      "2017-02-26 17:40:52,259|INFO|train|Computing feature statistics over 100 documents...\n",
      "2017-02-26 17:40:52,266|INFO|train|Building training set, feature mapping = PolynomialMapper...\n",
      "2017-02-26 17:40:52,563|INFO|train|Fitting model over 7645 instances...\n",
      "2017-02-26 17:40:52,572|INFO|train|Training set pairwise classification: 86.9% (6645/7645)\n",
      "2017-02-26 17:40:52,573|INFO|train|Done.\n"
     ]
    }
   ],
   "source": [
    "ranker = ranking.TrainLinearRanker(name='ranker', features=[f.id for f in feature_extraction])(train)"
   ]
  },
  {
   "cell_type": "code",
   "execution_count": 33,
   "metadata": {
    "collapsed": false
   },
   "outputs": [],
   "source": [
    "classifier_feature = meta.ClassifierScore(ranker)\n",
    "linking = [\n",
    "    classifier_feature,\n",
    "    resolve.FeatureRankResolver(classifier_feature.id)\n",
    "]"
   ]
  },
  {
   "cell_type": "code",
   "execution_count": 34,
   "metadata": {
    "collapsed": true
   },
   "outputs": [],
   "source": [
    "linking_pipeline = Pipeline(candidate_generation + feature_extraction + linking)"
   ]
  },
  {
   "cell_type": "code",
   "execution_count": 38,
   "metadata": {
    "collapsed": false
   },
   "outputs": [],
   "source": [
    "sample = [from_sift(doc) for doc in docs.takeSample(False, 10)]"
   ]
  },
  {
   "cell_type": "code",
   "execution_count": 42,
   "metadata": {
    "collapsed": false
   },
   "outputs": [],
   "source": [
    "# clear existing links\n",
    "for doc in sample:\n",
    "    for chain in doc.chains:\n",
    "        chain.resolution = None\n",
    "        for mention in chain.mentions:\n",
    "            mention.resolution = None"
   ]
  },
  {
   "cell_type": "code",
   "execution_count": 43,
   "metadata": {
    "collapsed": false
   },
   "outputs": [],
   "source": [
    "linked_sample = [linking_pipeline(doc) for doc in sample]"
   ]
  },
  {
   "cell_type": "code",
   "execution_count": 44,
   "metadata": {
    "collapsed": false
   },
   "outputs": [
    {
     "data": {
      "text/plain": [
       "['en.wikipedia.org/wiki/Pamela_Manson',\n",
       " 'en.wikipedia.org/wiki/Zatorowizna',\n",
       " 'en.wikipedia.org/wiki/Wadih',\n",
       " 'en.wikipedia.org/wiki/Self-Help_(album)',\n",
       " 'en.wikipedia.org/wiki/Dean_Goodhill',\n",
       " u'en.wikipedia.org/wiki/Lang\\xe5-Struer_Line',\n",
       " 'en.wikipedia.org/wiki/List_of_Berkshire_County_Cricket_Club_grounds',\n",
       " 'en.wikipedia.org/wiki/Click_Asia_Summit',\n",
       " 'en.wikipedia.org/wiki/LSM_Launch_Coaster_(Vekoma)',\n",
       " 'en.wikipedia.org/wiki/Warelands']"
      ]
     },
     "execution_count": 44,
     "metadata": {},
     "output_type": "execute_result"
    }
   ],
   "source": [
    "[d.id for d in linked_sample]"
   ]
  },
  {
   "cell_type": "code",
   "execution_count": 45,
   "metadata": {
    "collapsed": false
   },
   "outputs": [
    {
     "data": {
      "text/plain": [
       "u'en.wikipedia.org/wiki/Mermaid_Theatre'"
      ]
     },
     "execution_count": 45,
     "metadata": {},
     "output_type": "execute_result"
    }
   ],
   "source": [
    "sample[0].chains[0].resolution.id"
   ]
  },
  {
   "cell_type": "code",
   "execution_count": 46,
   "metadata": {
    "collapsed": false
   },
   "outputs": [],
   "source": [
    "from nel.harness.format import inject_markdown_links\n",
    "from IPython.display import display, Markdown"
   ]
  },
  {
   "cell_type": "code",
   "execution_count": 47,
   "metadata": {
    "collapsed": false
   },
   "outputs": [
    {
     "data": {
      "text/markdown": [
       "Pamela Manson in \"[The Fall and Rise of Reginald Perrin](https://en.wikipedia.org/wiki/en.wikipedia.org/wiki/The_Fall_and_Rise_of_Reginald_Perrin)\" (1976).\n",
       "[Pamela Manson](https://en.wikipedia.org/wiki/en.wikipedia.org/wiki/Pamela_Manson) (30 September 1928–19 March 1988) was a British actress who in her 30-year career on film, television and stage is best known for playing comedy roles. She was also a political activist who was a member of the International Committee for Artists' Freedom for [Equity](https://en.wikipedia.org/wiki/en.wikipedia.org/wiki/Stock) and a member of the National Campaign for the Repeal of the Obscene Publications Acts.\n",
       "\n",
       "Early years\n",
       "Born as Pamela J. Cowan, and originally from [Leeds](https://en.wikipedia.org/wiki/en.wikipedia.org/wiki/Leeds), before turning to an acting career she worked as a secretary on the \"[News Chronicle](https://en.wikipedia.org/wiki/en.wikipedia.org/wiki/News_Chronicle)\" and at one time also worked as a public relations officer in the fashion industry and managed theatrical artists for a period. In 1949 at [Kensington](https://en.wikipedia.org/wiki/en.wikipedia.org/wiki/Kensington) she married Louis Manson, later the Chairman of Cope Allman International; they had two sons and two daughters. The marriage was later dissolved.\n",
       "\n",
       "Acting career\n",
       "Manson's first acting role was in 1952 following which she had a long career in the theatre. Breaking into television, she made appearances  as the Canteen Server/Bertha in four episodes of ''[Hancock's Half Hour](https://en.wikipedia.org/wiki/en.wikipedia.org/wiki/Hancock's_Half_Hour)\" (1957–59), Rita/Irma Stevens in \"[Dixon of Dock Green](https://en.wikipedia.org/wiki/en.wikipedia.org/wiki/Dixon_of_Dock_Green)\" (1961-62), Mrs. Phillips in \"[Z-Cars](https://en.wikipedia.org/wiki/en.wikipedia.org/wiki/Z-Cars)\" (1965), René Tanner in \"Emergency – Ward 10\" (1966), Maggie in \"[All Gas and Gaiters](https://en.wikipedia.org/wiki/en.wikipedia.org/wiki/All_Gas_and_Gaiters)\" (1967), Mrs. Lloyd in \"[Champion House](https://en.wikipedia.org/wiki/en.wikipedia.org/wiki/Champion_House)\" (1967-68), Mrs. Levy in \"[Alexander the Greatest](https://en.wikipedia.org/wiki/en.wikipedia.org/wiki/Alexander_the_Greatest)\" (1971), the Large Brim with Fruit in \"[Are You Being Served?](https://en.wikipedia.org/wiki/en.wikipedia.org/wiki/Are_You_Being_Served?)\" (1973), \"[Sykes](https://en.wikipedia.org/wiki/en.wikipedia.org/wiki/Tom_Sykes)\" (1973), the [NAAFI](https://en.wikipedia.org/wiki/en.wikipedia.org/wiki/Cafeteria) Girl in the [We Know Our Onions](https://en.wikipedia.org/wiki/en.wikipedia.org/wiki/We_Know_Our_Onions) episode of  \"[Dad's Army](https://en.wikipedia.org/wiki/en.wikipedia.org/wiki/Dad's_Army)\" (1973),  Sheila in \"[Second Time Around](https://en.wikipedia.org/wiki/en.wikipedia.org/wiki/Second_Time_Around_(TV_series))\" (1974), Sally in \"[The Good Life](https://en.wikipedia.org/wiki/en.wikipedia.org/wiki/The_Good_Life_(1975_TV_series))\" (1975), Sylvia in \"[Bar Mitzvah Boy](https://en.wikipedia.org/wiki/en.wikipedia.org/wiki/Bar_Mitzvah_Boy)\" (1976), Barmaid in \"[The Fall and Rise of Reginald Perrin](https://en.wikipedia.org/wiki/en.wikipedia.org/wiki/The_Fall_and_Rise_of_Reginald_Perrin)\" (1976), \"[Jackanory](https://en.wikipedia.org/wiki/en.wikipedia.org/wiki/Jackanory)\" (1977), Molly in \"[The Professionals](https://en.wikipedia.org/wiki/en.wikipedia.org/wiki/The_Professionals_(TV_series))\" (1978), and Sybil Nunn in \"[Sorry, I'm A Stranger Here Myself](https://en.wikipedia.org/wiki/en.wikipedia.org/wiki/Sorry,_I'm_A_Stranger_Here_Myself)\" (1981–82), Landlady in \"[The Chinese Detective](https://en.wikipedia.org/wiki/en.wikipedia.org/wiki/The_Chinese_Detective)\" (1982), Mavis in \"[Hi-de-Hi!](https://en.wikipedia.org/wiki/en.wikipedia.org/wiki/Hi-de-Hi!)\" (1984), Mrs. Ivan in \"[The Life and Loves of a She-Devil](https://en.wikipedia.org/wiki/en.wikipedia.org/wiki/The_Life_and_Loves_of_a_She-Devil)\" (1986) and the Fairy Godmother in \"[The Growing Pains of Adrian Mole](https://en.wikipedia.org/wiki/en.wikipedia.org/wiki/Adrian_Mole)\" (1987), among other roles. She also appeared with [Peter Sellers](https://en.wikipedia.org/wiki/en.wikipedia.org/wiki/Peter_Sellers).\n",
       "\n",
       "Her film roles included \"[Room at the Top](https://en.wikipedia.org/wiki/en.wikipedia.org/wiki/Room_at_the_Top_(1959_film))\" (1959), Greek Brothel Keeper in \"[On the Game](https://en.wikipedia.org/wiki/en.wikipedia.org/wiki/On_the_Game)\" (1974) and Mrs. Bellrind in  \"[The Class of Miss MacMichael](https://en.wikipedia.org/wiki/en.wikipedia.org/wiki/The_Class_of_Miss_MacMichael)\" (1978), while her stage appearances included \"A Penny for Bread'' at the [Almost Free Theatre](https://en.wikipedia.org/wiki/en.wikipedia.org/wiki/Almost_Free_Theatre) as well as seasons at the [Chichester Festival Theatre](https://en.wikipedia.org/wiki/en.wikipedia.org/wiki/Chichester_Festival_Theatre) and the [Mermaid Theatre](https://en.wikipedia.org/wiki/en.wikipedia.org/wiki/Mermaid_Theatre).\n",
       "\n",
       "Other activities\n",
       "As an active member of the actors' union [Equity](https://en.wikipedia.org/wiki/en.wikipedia.org/wiki/Stock), she was a member of the International Committee for Artists' Freedom that campaigned in late 1987  when 77 of Chile's leading actors were threatened with death if they refused to leave their country. As an activist in the Soviet Jewry Campaign she  was also involved in the campaign to allow the ballet dancer [Valery Panov](https://en.wikipedia.org/wiki/en.wikipedia.org/wiki/Valery_Panov) and his wife Galina to leave Russia in 1974. Manson was also a member of the National Campaign for the Repeal of the Obscene Publications Acts (NCROPA) and had been the Chairman of the Redcliffe Ward Chelsea Labour Party.\n",
       "\n",
       "With her friend, the actress [Diane Hart](https://en.wikipedia.org/wiki/en.wikipedia.org/wiki/Diane_Hart), she set up a ladies' underwear business in west London. In 1961 the two went to the Soviet Union where they thought their products would be in demand. Manson explained \"We thought it was about time someone made the Russian women figure-conscious. If they wear corsets at all, which we doubt, they're probably ones which came out of the Ark. So we're taking our top-selling line, Beatnix, and lots of older models which were in fashion here some years ago. Frankly, we think they will be a better sell with the Russians than modern, snazzy, sexy little garments.\"\n",
       "\n",
       "\n",
       "Pamela Manson lived in [Kensington](https://en.wikipedia.org/wiki/en.wikipedia.org/wiki/Kensington) and died in London aged 59. She was survived by her four children.\n",
       "\n",
       "References\n",
       "\n",
       "\n",
       "External links\n",
       "* Manson on the British Film Institute website\n",
       "* Fashion models Diane Hart and Pamela Manson modeling on a New York Street (1965) - <a href=\"en.wikipedia.org/wiki/Getty Images\">Getty Images</a></a>\n",
       "* Manson on aveleyman.com"
      ],
      "text/plain": [
       "<IPython.core.display.Markdown object>"
      ]
     },
     "metadata": {},
     "output_type": "display_data"
    }
   ],
   "source": [
    "display(Markdown(inject_markdown_links(linked_sample[0].text, linked_sample[0])))"
   ]
  },
  {
   "cell_type": "code",
   "execution_count": null,
   "metadata": {
    "collapsed": true
   },
   "outputs": [],
   "source": []
  }
 ],
 "metadata": {
  "kernelspec": {
   "display_name": "Python 2",
   "language": "python",
   "name": "python2"
  },
  "language_info": {
   "codemirror_mode": {
    "name": "ipython",
    "version": 2
   },
   "file_extension": ".py",
   "mimetype": "text/x-python",
   "name": "python",
   "nbconvert_exporter": "python",
   "pygments_lexer": "ipython2",
   "version": "2.7.6"
  }
 },
 "nbformat": 4,
 "nbformat_minor": 1
}
